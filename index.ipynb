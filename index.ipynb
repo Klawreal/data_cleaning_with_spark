{
 "cells": [
  {
   "cell_type": "code",
   "execution_count": 2,
   "metadata": {},
   "outputs": [],
   "source": [
    "# from pyspark.sql import SparkSession\n",
    "\n"
   ]
  },
  {
   "cell_type": "code",
   "execution_count": 11,
   "metadata": {},
   "outputs": [],
   "source": [
    "# spark = SparkSession.builder.appName('rheeza').getOrCreate()"
   ]
  },
  {
   "cell_type": "code",
   "execution_count": 17,
   "metadata": {},
   "outputs": [],
   "source": [
    "from pyspark.sql import SparkSession\n",
    "\n",
    "spark = SparkSession.builder.appName('rheeza').getOrCreate()"
   ]
  },
  {
   "cell_type": "code",
   "execution_count": 15,
   "metadata": {},
   "outputs": [],
   "source": [
    "trials_df = spark.read.json('dataset.json', multiLine=True)"
   ]
  },
  {
   "cell_type": "code",
   "execution_count": 26,
   "metadata": {},
   "outputs": [
    {
     "name": "stdout",
     "output_type": "stream",
     "text": [
      "+----------------+--------------------+---------+-----------------+-------------------+------------------------------+--------------------+\n",
      "|ageofparticipant|           clinician|drug_used|experimentenddate|experimentstartdate|noofhourspassedatfirstreaction|              result|\n",
      "+----------------+--------------------+---------+-----------------+-------------------+------------------------------+--------------------+\n",
      "|              19|{Ontario, Saul, t...|  Placebo|    1619827200000|      1617235200000|                            52|{BP normalized, r...|\n",
      "|              14|{Ontario, Saul, n...| Naproxen|    1619827200000|      1617235200000|                            78|    {Follow-up, N/A}|\n",
      "|              17|{Ontario, Saul, n...|  Placebo|    1619827200000|      1617235200000|                            14|    {Follow-up, N/A}|\n",
      "|              18|{Ontario, Will, n...| Naproxen|    1619827200000|      1617235200000|                            14|{BP normalized, N/A}|\n",
      "|              17|{Ontario, Patrick...| Naproxen|    1619827200000|      1617235200000|                            22|{No effect, rashe...|\n",
      "|              17|{Ontario, Patrick...| Naproxen|    1619827200000|      1617235200000|                             4|{Follow-up, heada...|\n",
      "|              20|{Ontario, Saul, d...| Naproxen|    1619827200000|      1617235200000|                            85|{No effect, heada...|\n",
      "|              15|{Ontario, Saul, d...|  Placebo|    1619827200000|      1617235200000|                            49|{No effect, rashe...|\n",
      "|              14|{Ontario, Will, t...|  Placebo|    1619827200000|      1617235200000|                            84|{Follow-up, heada...|\n",
      "|              20|{Ontario, Colins,...|  Placebo|    1619827200000|      1617235200000|                            66|{Follow-up, arms ...|\n",
      "+----------------+--------------------+---------+-----------------+-------------------+------------------------------+--------------------+\n",
      "only showing top 10 rows\n",
      "\n"
     ]
    }
   ],
   "source": [
    "trials_df.show(10)"
   ]
  },
  {
   "cell_type": "code",
   "execution_count": 27,
   "metadata": {},
   "outputs": [
    {
     "name": "stdout",
     "output_type": "stream",
     "text": [
      "root\n",
      " |-- ageofparticipant: long (nullable = true)\n",
      " |-- clinician: struct (nullable = true)\n",
      " |    |-- branch: string (nullable = true)\n",
      " |    |-- name: string (nullable = true)\n",
      " |    |-- role: string (nullable = true)\n",
      " |-- drug_used: string (nullable = true)\n",
      " |-- experimentenddate: string (nullable = true)\n",
      " |-- experimentstartdate: string (nullable = true)\n",
      " |-- noofhourspassedatfirstreaction: long (nullable = true)\n",
      " |-- result: struct (nullable = true)\n",
      " |    |-- conclusion: string (nullable = true)\n",
      " |    |-- sideeffectsonparticipant: string (nullable = true)\n",
      "\n"
     ]
    }
   ],
   "source": [
    "trials_df.printSchema()"
   ]
  },
  {
   "cell_type": "code",
   "execution_count": 18,
   "metadata": {},
   "outputs": [
    {
     "data": {
      "text/plain": [
       "['ageofparticipant',\n",
       " 'clinician',\n",
       " 'drug_used',\n",
       " 'experimentenddate',\n",
       " 'experimentstartdate',\n",
       " 'noofhourspassedatfirstreaction',\n",
       " 'result']"
      ]
     },
     "execution_count": 18,
     "metadata": {},
     "output_type": "execute_result"
    }
   ],
   "source": [
    "trials_df.columns"
   ]
  },
  {
   "cell_type": "code",
   "execution_count": 20,
   "metadata": {},
   "outputs": [],
   "source": [
    "columns = ['ageofparticipant',\n",
    " 'clinician.branch',\n",
    " 'clinician.name',\n",
    " 'clinician.role',\n",
    " 'drug_used',\n",
    " 'experimentenddate',\n",
    " 'experimentstartdate',\n",
    " 'noofhourspassedatfirstreaction',\n",
    " 'result.conclusion',\n",
    " 'result.sideeffectsonparticipant']\n"
   ]
  },
  {
   "cell_type": "code",
   "execution_count": 21,
   "metadata": {},
   "outputs": [
    {
     "name": "stdout",
     "output_type": "stream",
     "text": [
      "+----------------+-------+-------+---------+---------+-----------------+-------------------+------------------------------+-------------+------------------------+\n",
      "|ageofparticipant| branch|   name|     role|drug_used|experimentenddate|experimentstartdate|noofhourspassedatfirstreaction|   conclusion|sideeffectsonparticipant|\n",
      "+----------------+-------+-------+---------+---------+-----------------+-------------------+------------------------------+-------------+------------------------+\n",
      "|              19|Ontario|   Saul|therapist|  Placebo|    1619827200000|      1617235200000|                            52|BP normalized|          rashes on neck|\n",
      "|              14|Ontario|   Saul|    nurse| Naproxen|    1619827200000|      1617235200000|                            78|    Follow-up|                     N/A|\n",
      "|              17|Ontario|   Saul|    nurse|  Placebo|    1619827200000|      1617235200000|                            14|    Follow-up|                     N/A|\n",
      "|              18|Ontario|   Will|    nurse| Naproxen|    1619827200000|      1617235200000|                            14|BP normalized|                     N/A|\n",
      "|              17|Ontario|Patrick|   doctor| Naproxen|    1619827200000|      1617235200000|                            22|    No effect|          rashes on neck|\n",
      "+----------------+-------+-------+---------+---------+-----------------+-------------------+------------------------------+-------------+------------------------+\n",
      "only showing top 5 rows\n",
      "\n"
     ]
    }
   ],
   "source": [
    "trials_df.select(columns).show(5)"
   ]
  },
  {
   "cell_type": "code",
   "execution_count": 25,
   "metadata": {},
   "outputs": [
    {
     "name": "stdout",
     "output_type": "stream",
     "text": [
      "+----------------+--------------------+---------+-----------------+-------------------+------------------------------+--------------------+\n",
      "|ageofparticipant|           clinician|drug_used|experimentenddate|experimentstartdate|noofhourspassedatfirstreaction|              result|\n",
      "+----------------+--------------------+---------+-----------------+-------------------+------------------------------+--------------------+\n",
      "|              19|{Ontario, Saul, t...|  Placebo|    1619827200000|      1617235200000|                            52|{BP normalized, r...|\n",
      "|              14|{Ontario, Saul, n...| Naproxen|    1619827200000|      1617235200000|                            78|    {Follow-up, N/A}|\n",
      "|              17|{Ontario, Saul, n...|  Placebo|    1619827200000|      1617235200000|                            14|    {Follow-up, N/A}|\n",
      "|              18|{Ontario, Will, n...| Naproxen|    1619827200000|      1617235200000|                            14|{BP normalized, N/A}|\n",
      "|              17|{Ontario, Patrick...| Naproxen|    1619827200000|      1617235200000|                            22|{No effect, rashe...|\n",
      "|              17|{Ontario, Patrick...| Naproxen|    1619827200000|      1617235200000|                             4|{Follow-up, heada...|\n",
      "|              20|{Ontario, Saul, d...| Naproxen|    1619827200000|      1617235200000|                            85|{No effect, heada...|\n",
      "|              15|{Ontario, Saul, d...|  Placebo|    1619827200000|      1617235200000|                            49|{No effect, rashe...|\n",
      "|              14|{Ontario, Will, t...|  Placebo|    1619827200000|      1617235200000|                            84|{Follow-up, heada...|\n",
      "|              20|{Ontario, Colins,...|  Placebo|    1619827200000|      1617235200000|                            66|{Follow-up, arms ...|\n",
      "|              18|{Ontario, Patrick...|  Placebo|    1619827200000|      1617235200000|                            40|{BP normalized, l...|\n",
      "|              17|{Ontario, Patrick...|  Placebo|    1619827200000|      1617235200000|                            72|{BP normalized, a...|\n",
      "|              19|{Ontario, Colins,...|  Placebo|    1619827200000|      1617235200000|                            36|    {No effect, N/A}|\n",
      "|              15|{Ontario, Colins,...| Naproxen|    1619827200000|      1617235200000|                            12|{BP normalized, h...|\n",
      "|              19|{Ontario, Saul, t...|  Placebo|    1619827200000|      1617235200000|                            14|    {No effect, N/A}|\n",
      "|              16|{Ontario, Colins,...|  Placebo|    1619827200000|      1617235200000|                            63|{BP normalized, N/A}|\n",
      "|              16|{Ontario, Saul, n...| Naproxen|    1619827200000|      1617235200000|                            70|{BP normalized, h...|\n",
      "|              18|{Ontario, Will, t...| Naproxen|    1619827200000|      1617235200000|                            10|{BP normalized, N/A}|\n",
      "|              16|{Ontario, Patrick...| Naproxen|    1619827200000|      1617235200000|                            11|{Follow-up, rashe...|\n",
      "|              14|{Ontario, Patrick...| Naproxen|    1619827200000|      1617235200000|                            32|{No effect, light...|\n",
      "+----------------+--------------------+---------+-----------------+-------------------+------------------------------+--------------------+\n",
      "only showing top 20 rows\n",
      "\n"
     ]
    }
   ],
   "source": [
    "\n",
    "trials_df.show()"
   ]
  },
  {
   "cell_type": "code",
   "execution_count": 31,
   "metadata": {},
   "outputs": [],
   "source": [
    "from pyspark.sql import functions as fn"
   ]
  },
  {
   "cell_type": "code",
   "execution_count": null,
   "metadata": {},
   "outputs": [],
   "source": [
    "# pyspark.sql.functions.when(condition: pyspark.sql.column.Column, value: Any) → pyspark.sql.column.Column[sourc"
   ]
  },
  {
   "cell_type": "code",
   "execution_count": 34,
   "metadata": {},
   "outputs": [
    {
     "name": "stdout",
     "output_type": "stream",
     "text": [
      "+----------------+----------------+--------------+--------------+---------+-----------------+-------------------+------------------------------+-----------------+-------------------------------+\n",
      "|ageofparticipant|clinician.branch|clinician.name|clinician.role|drug_used|experimentenddate|experimentstartdate|noofhourspassedatfirstreaction|result.conclusion|result.sideeffectsonparticipant|\n",
      "+----------------+----------------+--------------+--------------+---------+-----------------+-------------------+------------------------------+-----------------+-------------------------------+\n",
      "|               0|               0|             0|           109|        0|                0|                  0|                            73|               53|                              0|\n",
      "+----------------+----------------+--------------+--------------+---------+-----------------+-------------------+------------------------------+-----------------+-------------------------------+\n",
      "\n"
     ]
    }
   ],
   "source": [
    "trials_df.select([ fn.count(fn.when(fn.col(column).isNull(), column)).alias(column) for column in columns]).show()"
   ]
  },
  {
   "cell_type": "code",
   "execution_count": 37,
   "metadata": {},
   "outputs": [
    {
     "name": "stdout",
     "output_type": "stream",
     "text": [
      "+----------------+--------------------+---------+-----------------+-------------------+------------------------------+--------------------+\n",
      "|ageofparticipant|           clinician|drug_used|experimentenddate|experimentstartdate|noofhourspassedatfirstreaction|              result|\n",
      "+----------------+--------------------+---------+-----------------+-------------------+------------------------------+--------------------+\n",
      "|              19|{Ontario, Saul, t...|  Placebo|    1619827200000|      1617235200000|                            52|{BP normalized, r...|\n",
      "|              14|{Ontario, Saul, n...| Naproxen|    1619827200000|      1617235200000|                            78|    {Follow-up, N/A}|\n",
      "|              17|{Ontario, Saul, n...|  Placebo|    1619827200000|      1617235200000|                            14|    {Follow-up, N/A}|\n",
      "|              18|{Ontario, Will, n...| Naproxen|    1619827200000|      1617235200000|                            14|{BP normalized, N/A}|\n",
      "|              17|{Ontario, Patrick...| Naproxen|    1619827200000|      1617235200000|                            22|{No effect, rashe...|\n",
      "|              17|{Ontario, Patrick...| Naproxen|    1619827200000|      1617235200000|                             4|{Follow-up, heada...|\n",
      "|              20|{Ontario, Saul, d...| Naproxen|    1619827200000|      1617235200000|                            85|{No effect, heada...|\n",
      "|              15|{Ontario, Saul, d...|  Placebo|    1619827200000|      1617235200000|                            49|{No effect, rashe...|\n",
      "|              14|{Ontario, Will, t...|  Placebo|    1619827200000|      1617235200000|                            84|{Follow-up, heada...|\n",
      "|              20|{Ontario, Colins,...|  Placebo|    1619827200000|      1617235200000|                            66|{Follow-up, arms ...|\n",
      "+----------------+--------------------+---------+-----------------+-------------------+------------------------------+--------------------+\n",
      "only showing top 10 rows\n",
      "\n"
     ]
    }
   ],
   "source": [
    "trials_df.show(10)"
   ]
  },
  {
   "cell_type": "code",
   "execution_count": 38,
   "metadata": {},
   "outputs": [
    {
     "name": "stdout",
     "output_type": "stream",
     "text": [
      "root\n",
      " |-- ageofparticipant: long (nullable = true)\n",
      " |-- clinician: struct (nullable = true)\n",
      " |    |-- branch: string (nullable = true)\n",
      " |    |-- name: string (nullable = true)\n",
      " |    |-- role: string (nullable = true)\n",
      " |-- drug_used: string (nullable = true)\n",
      " |-- experimentenddate: string (nullable = true)\n",
      " |-- experimentstartdate: string (nullable = true)\n",
      " |-- noofhourspassedatfirstreaction: long (nullable = true)\n",
      " |-- result: struct (nullable = true)\n",
      " |    |-- conclusion: string (nullable = true)\n",
      " |    |-- sideeffectsonparticipant: string (nullable = true)\n",
      "\n"
     ]
    }
   ],
   "source": [
    "trials_df.printSchema()"
   ]
  },
  {
   "cell_type": "code",
   "execution_count": null,
   "metadata": {},
   "outputs": [],
   "source": []
  },
  {
   "cell_type": "markdown",
   "metadata": {},
   "source": [
    "# CLEANING \n",
    "\n",
    " \n",
    " - rename columns"
   ]
  },
  {
   "cell_type": "code",
   "execution_count": 42,
   "metadata": {},
   "outputs": [
    {
     "name": "stdout",
     "output_type": "stream",
     "text": [
      "root\n",
      " |-- ageofparticipant: long (nullable = true)\n",
      " |-- branch: string (nullable = true)\n",
      " |-- name: string (nullable = true)\n",
      " |-- role: string (nullable = true)\n",
      " |-- drug_used: string (nullable = true)\n",
      " |-- experimentenddate: string (nullable = true)\n",
      " |-- experimentstartdate: string (nullable = true)\n",
      " |-- noofhourspassedatfirstreaction: long (nullable = true)\n",
      " |-- conclusion: string (nullable = true)\n",
      " |-- sideeffectsonparticipant: string (nullable = true)\n",
      "\n"
     ]
    }
   ],
   "source": [
    "# Flaten df\n",
    "\n",
    "new_trials_df = trials_df.select(columns)\n",
    "\n",
    "new_trials_df.printSchema()"
   ]
  },
  {
   "cell_type": "code",
   "execution_count": 43,
   "metadata": {},
   "outputs": [
    {
     "name": "stdout",
     "output_type": "stream",
     "text": [
      "+----------------+-------+-------+---------+---------+-----------------+-------------------+------------------------------+-------------+------------------------+\n",
      "|ageofparticipant| branch|   name|     role|drug_used|experimentenddate|experimentstartdate|noofhourspassedatfirstreaction|   conclusion|sideeffectsonparticipant|\n",
      "+----------------+-------+-------+---------+---------+-----------------+-------------------+------------------------------+-------------+------------------------+\n",
      "|              19|Ontario|   Saul|therapist|  Placebo|    1619827200000|      1617235200000|                            52|BP normalized|          rashes on neck|\n",
      "|              14|Ontario|   Saul|    nurse| Naproxen|    1619827200000|      1617235200000|                            78|    Follow-up|                     N/A|\n",
      "|              17|Ontario|   Saul|    nurse|  Placebo|    1619827200000|      1617235200000|                            14|    Follow-up|                     N/A|\n",
      "|              18|Ontario|   Will|    nurse| Naproxen|    1619827200000|      1617235200000|                            14|BP normalized|                     N/A|\n",
      "|              17|Ontario|Patrick|   doctor| Naproxen|    1619827200000|      1617235200000|                            22|    No effect|          rashes on neck|\n",
      "|              17|Ontario|Patrick|   doctor| Naproxen|    1619827200000|      1617235200000|                             4|    Follow-up|               headaches|\n",
      "|              20|Ontario|   Saul|   doctor| Naproxen|    1619827200000|      1617235200000|                            85|    No effect|               headaches|\n",
      "|              15|Ontario|   Saul|   doctor|  Placebo|    1619827200000|      1617235200000|                            49|    No effect|          rashes on neck|\n",
      "|              14|Ontario|   Will|therapist|  Placebo|    1619827200000|      1617235200000|                            84|    Follow-up|               headaches|\n",
      "|              20|Ontario| Colins|    nurse|  Placebo|    1619827200000|      1617235200000|                            66|    Follow-up|           arms and feet|\n",
      "+----------------+-------+-------+---------+---------+-----------------+-------------------+------------------------------+-------------+------------------------+\n",
      "only showing top 10 rows\n",
      "\n"
     ]
    }
   ],
   "source": [
    "new_trials_df.show(10)"
   ]
  },
  {
   "cell_type": "code",
   "execution_count": 64,
   "metadata": {},
   "outputs": [
    {
     "name": "stdout",
     "output_type": "stream",
     "text": [
      "+------------------+-------+-------+---------+---------+-------------------+-------------------+----------------------------------------+-------------+---------------------------+\n",
      "|Age_of_participant| branch|   name|     role|drug_used|experiment_end_date|experimentstartdate|number_of_hours_passed_at_first_reaction|   conclusion|side_effects_on_participant|\n",
      "+------------------+-------+-------+---------+---------+-------------------+-------------------+----------------------------------------+-------------+---------------------------+\n",
      "|                19|Ontario|   Saul|therapist|  Placebo|      1619827200000|      1617235200000|                                      52|BP normalized|             rashes on neck|\n",
      "|                14|Ontario|   Saul|    nurse| Naproxen|      1619827200000|      1617235200000|                                      78|    Follow-up|                        N/A|\n",
      "|                17|Ontario|   Saul|    nurse|  Placebo|      1619827200000|      1617235200000|                                      14|    Follow-up|                        N/A|\n",
      "|                18|Ontario|   Will|    nurse| Naproxen|      1619827200000|      1617235200000|                                      14|BP normalized|                        N/A|\n",
      "|                17|Ontario|Patrick|   doctor| Naproxen|      1619827200000|      1617235200000|                                      22|    No effect|             rashes on neck|\n",
      "|                17|Ontario|Patrick|   doctor| Naproxen|      1619827200000|      1617235200000|                                       4|    Follow-up|                  headaches|\n",
      "|                20|Ontario|   Saul|   doctor| Naproxen|      1619827200000|      1617235200000|                                      85|    No effect|                  headaches|\n",
      "|                15|Ontario|   Saul|   doctor|  Placebo|      1619827200000|      1617235200000|                                      49|    No effect|             rashes on neck|\n",
      "|                14|Ontario|   Will|therapist|  Placebo|      1619827200000|      1617235200000|                                      84|    Follow-up|                  headaches|\n",
      "|                20|Ontario| Colins|    nurse|  Placebo|      1619827200000|      1617235200000|                                      66|    Follow-up|              arms and feet|\n",
      "+------------------+-------+-------+---------+---------+-------------------+-------------------+----------------------------------------+-------------+---------------------------+\n",
      "only showing top 10 rows\n",
      "\n"
     ]
    }
   ],
   "source": [
    "# rename columns\n",
    "\n",
    "new_column_names = {'ageofparticipant': 'Age_of_participant', 'experimentenddate':'experiment_end_date', '|experimentstartdate': 'experiment_start_date', \n",
    "                    'noofhourspassedatfirstreaction': 'number_of_hours_passed_at_first_reaction', 'sideeffectsonparticipant': 'side_effects_on_participant'}\n",
    "\n",
    "new_trials_renamed_columns = new_trials_df.withColumnsRenamed(new_column_names)\n",
    "\n",
    "new_trials_renamed_columns.show(10)"
   ]
  },
  {
   "cell_type": "code",
   "execution_count": null,
   "metadata": {},
   "outputs": [],
   "source": []
  },
  {
   "cell_type": "code",
   "execution_count": 80,
   "metadata": {},
   "outputs": [
    {
     "name": "stdout",
     "output_type": "stream",
     "text": [
      "+-------+------------------+-------+-------+---------+---------+--------------------+--------------------+------------------------------+-------------+------------------------+\n",
      "|summary|  ageofparticipant| branch|   name|     role|drug_used|   experimentenddate| experimentstartdate|noofhourspassedatfirstreaction|   conclusion|sideeffectsonparticipant|\n",
      "+-------+------------------+-------+-------+---------+---------+--------------------+--------------------+------------------------------+-------------+------------------------+\n",
      "|  count|              3586|   3586|   3586|     3477|     3586|                3586|                3586|                          3513|         3533|                    3586|\n",
      "|   mean|17.507250418293363|   null|   null|     null|     null|1.618381578137200...|1.615813671834913...|             44.89097637346997|         null|                    null|\n",
      "| stddev|2.3066401927555233|   null|   null|     null|     null|2.3250351904618263E9|2.2862846039555306E9|            24.540325490035848|         null|                    null|\n",
      "|    min|                14|Alberta| Colins|   doctor| Naproxen|       1614643200000|       1612137600000|                             3|BP normalized|                     N/A|\n",
      "|    max|                21| Quebec|Windsor|therapist|  Placebo|       1619827200000|       1617235200000|                            87|    No effect|          rashes on neck|\n",
      "+-------+------------------+-------+-------+---------+---------+--------------------+--------------------+------------------------------+-------------+------------------------+\n",
      "\n"
     ]
    }
   ],
   "source": [
    "new_trials_df.describe().show()\n"
   ]
  },
  {
   "cell_type": "code",
   "execution_count": 82,
   "metadata": {},
   "outputs": [
    {
     "name": "stdout",
     "output_type": "stream",
     "text": [
      "+-------+------------------+-------+-------+-------+---------+--------------------+--------------------+------------------------------+-------------+------------------------+\n",
      "|summary|  ageofparticipant| branch|   name|   role|drug_used|   experimentenddate| experimentstartdate|noofhourspassedatfirstreaction|   conclusion|sideeffectsonparticipant|\n",
      "+-------+------------------+-------+-------+-------+---------+--------------------+--------------------+------------------------------+-------------+------------------------+\n",
      "|  count|              3586|   3586|   3586|   3586|     3586|                3586|                3586|                          3513|         3586|                    3586|\n",
      "|   mean|17.507250418293363|   null|   null|   null|     null|1.618381578137200...|1.615813671834913...|             44.89097637346997|         null|                    null|\n",
      "| stddev|2.3066401927555233|   null|   null|   null|     null|2.3250351904618263E9|2.2862846039555306E9|            24.540325490035848|         null|                    null|\n",
      "|    min|                14|Alberta| Colins| doctor| Naproxen|       1614643200000|       1612137600000|                             3|BP normalized|                     N/A|\n",
      "|    max|                21| Quebec|Windsor|unknown|  Placebo|       1619827200000|       1617235200000|                            87|      unknown|          rashes on neck|\n",
      "+-------+------------------+-------+-------+-------+---------+--------------------+--------------------+------------------------------+-------------+------------------------+\n",
      "\n"
     ]
    }
   ],
   "source": [
    "# address Null values # Fill the Null values as Unknowns\n",
    "\n",
    "new_trials_df = new_trials_df.na.fill({'conclusion': 'unknown', 'role': 'unknown'})\n",
    "\n",
    "new_trials_df.describe().show()"
   ]
  },
  {
   "cell_type": "code",
   "execution_count": null,
   "metadata": {},
   "outputs": [],
   "source": []
  },
  {
   "cell_type": "code",
   "execution_count": null,
   "metadata": {},
   "outputs": [],
   "source": [
    "\n",
    "\n",
    "\n"
   ]
  },
  {
   "cell_type": "code",
   "execution_count": null,
   "metadata": {},
   "outputs": [],
   "source": []
  },
  {
   "cell_type": "code",
   "execution_count": null,
   "metadata": {},
   "outputs": [],
   "source": []
  },
  {
   "cell_type": "code",
   "execution_count": null,
   "metadata": {},
   "outputs": [],
   "source": []
  }
 ],
 "metadata": {
  "kernelspec": {
   "display_name": "base",
   "language": "python",
   "name": "python3"
  },
  "language_info": {
   "codemirror_mode": {
    "name": "ipython",
    "version": 3
   },
   "file_extension": ".py",
   "mimetype": "text/x-python",
   "name": "python",
   "nbconvert_exporter": "python",
   "pygments_lexer": "ipython3",
   "version": "3.10.9"
  },
  "orig_nbformat": 4
 },
 "nbformat": 4,
 "nbformat_minor": 2
}
